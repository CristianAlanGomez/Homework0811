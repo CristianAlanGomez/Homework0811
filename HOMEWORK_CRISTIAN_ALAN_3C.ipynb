{
 "cells": [
  {
   "cell_type": "markdown",
   "metadata": {},
   "source": [
    "## HOMEWORK 08/11/2019\n",
    "                            Cristian Alan Gomez Castillo\n",
    "                            3-\"C\""
   ]
  },
  {
   "cell_type": "code",
   "execution_count": null,
   "metadata": {},
   "outputs": [
    {
     "name": "stdout",
     "output_type": "stream",
     "text": [
      "1.Sample Mean\n",
      "2.Moda\n",
      "3.Standard deviation\n"
     ]
    }
   ],
   "source": [
    "print(\"1.Sample Mean\")\n",
    "print(\"2.Moda\")\n",
    "print(\"3.Standard deviation\")\n",
    "numero =int(input(\"Please select the option: \"))\n",
    "\n",
    "\n",
    "if numero == 1:\n",
    "    val =int(input(\"Introduce the data you will use: \"))\n",
    "    data=[]\n",
    "    total=0  \n",
    "    for i in range (0,val):\n",
    "        x=int(input(f\"digitize the  data {i+1}: \"))\n",
    "        data.append(x)\n",
    "        total+=x        \n",
    "        sample_mean=total/val       \n",
    "       \n",
    "    print(\"the sample mean is: \",sample_mean)\n",
    "    \n",
    "    \n",
    "elif numero == 2:\n",
    "    print(\"MODA\")\n",
    "    val= int(input(\"Introduce the data you will use: \"))\n",
    "    data=[]\n",
    "    total=0  \n",
    "    for i in range (0,val):\n",
    "        x= int(input(f\"digitize the  data {i+1}: \"))\n",
    "        data.append(x)\n",
    "    \n",
    "        repeticiones = 0                                                                         \n",
    "    for i in data:                                                                              \n",
    "        apariciones = data.count(i)                                                             \n",
    "        if apariciones > repeticiones:                                                       \n",
    "            repeticiones = apariciones                                                       \n",
    "                                                                                         \n",
    "    modas = []                                                                               \n",
    "    for i in data:                                                                              \n",
    "        apariciones = data.count(i)                                                             \n",
    "        if apariciones == repeticiones and i not in modas:                                   \n",
    "            modas.append(i)  \n",
    "        \n",
    "                                                                                         \n",
    "    print (\"Moda : \", modas)\n",
    "\n",
    "elif numero ==3:\n",
    "    print(\"STANDARD DEVIATION\")\n",
    "    val =int(input(\"Introduce the data you will use: \"))\n",
    "    data=[]\n",
    "    total=0 \n",
    "    \n",
    "    for i in range (0,val):\n",
    "        x=int(input(f\"digitize the  data {i+1}: \"))\n",
    "        data.append(x)\n",
    "        total+=x\n",
    "        sample_mean=total/val\n",
    "        cuadrados = [] \n",
    "        for dato in data:\n",
    "          r = (dato - sample_mean)**2\n",
    "          cuadrados.append(r)\n",
    "        \n",
    "        desviacion = (sum(cuadrados)/(val - 1))**0.5 \n",
    "    \n",
    "    print (\"The Standard deviation is: \", desviacion)\n",
    "    \n",
    "else:\n",
    "    print(\"ERROR\")"
   ]
  },
  {
   "cell_type": "code",
   "execution_count": null,
   "metadata": {},
   "outputs": [],
   "source": []
  },
  {
   "cell_type": "code",
   "execution_count": null,
   "metadata": {},
   "outputs": [],
   "source": []
  },
  {
   "cell_type": "code",
   "execution_count": null,
   "metadata": {},
   "outputs": [],
   "source": []
  }
 ],
 "metadata": {
  "kernelspec": {
   "display_name": "Python 3",
   "language": "python",
   "name": "python3"
  },
  "language_info": {
   "codemirror_mode": {
    "name": "ipython",
    "version": 3
   },
   "file_extension": ".py",
   "mimetype": "text/x-python",
   "name": "python",
   "nbconvert_exporter": "python",
   "pygments_lexer": "ipython3",
   "version": "3.7.4"
  }
 },
 "nbformat": 4,
 "nbformat_minor": 2
}
